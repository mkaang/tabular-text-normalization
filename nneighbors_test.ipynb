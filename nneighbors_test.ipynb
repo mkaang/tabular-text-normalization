{
 "cells": [
  {
   "cell_type": "code",
   "execution_count": 1,
   "metadata": {},
   "outputs": [],
   "source": [
    "import pandas as pd\n",
    "from helper import *\n",
    "\n",
    "df = pd.read_csv('data/TED - Contract award notices 2020.csv', usecols=['WIN_NAME'])\n",
    "\n",
    "winner_names = df.copy().dropna()\n",
    "winner_names = winner_names['WIN_NAME'].str.split('---').explode()"
   ]
  },
  {
   "cell_type": "markdown",
   "metadata": {},
   "source": [
    "#### Simple Preprocess"
   ]
  },
  {
   "cell_type": "code",
   "execution_count": 2,
   "metadata": {},
   "outputs": [
    {
     "name": "stdout",
     "output_type": "stream",
     "text": [
      "MEDIPLUS EXIM                5436\n",
      "MEDIPLUS EXIM S.R.L.          692\n",
      "Mediplus Exim                 287\n",
      "Mediplus Solutions              6\n",
      "MEDIPLUS SOLUTIONS SRL          5\n",
      "Mediplus Ltd                    4\n",
      "Mediplus Krzysztof Wypych       2\n",
      "MEDIPLUS SOLUTIONS              1\n",
      "MEDIPLUS EXIM SRL               1\n",
      "S.C. Mediplus Exim S.R.L.       1\n",
      "Name: WIN_NAME, dtype: int64\n",
      "mediplus exim                5723\n",
      "mediplus exim srl             693\n",
      "mediplus solutions              7\n",
      "mediplus solutions srl          5\n",
      "mediplus ltd                    4\n",
      "mediplus krzysztof wypych       2\n",
      "sc mediplus exim srl            1\n",
      "Name: WIN_NAME, dtype: int64\n"
     ]
    }
   ],
   "source": [
    "preprocessed_winner_names = preprocess(winner_names)\n",
    "\n",
    "print(winner_names[winner_names.apply(lambda x: isinclude(x, 'mediplus'))].value_counts())\n",
    "print(preprocessed_winner_names[preprocessed_winner_names.apply(lambda x: isinclude(x, 'mediplus'))].value_counts())"
   ]
  },
  {
   "cell_type": "markdown",
   "metadata": {},
   "source": [
    "#### Removing Common Words"
   ]
  },
  {
   "cell_type": "code",
   "execution_count": 3,
   "metadata": {},
   "outputs": [
    {
     "name": "stderr",
     "output_type": "stream",
     "text": [
      "100%|██████████| 824267/824267 [16:45<00:00, 819.87it/s]  \n"
     ]
    },
    {
     "name": "stdout",
     "output_type": "stream",
     "text": [
      "[('z', 90547), ('sp', 90210), ('oo', 75885), ('srl', 65798), ('gmbh', 59425), ('doo', 53136), ('sa', 44315), ('ltd', 35706), ('s', 35541), ('in', 32980)]\n",
      "mediplus exim                5723\n",
      "mediplus exim srl             693\n",
      "mediplus solutions              7\n",
      "mediplus solutions srl          5\n",
      "mediplus ltd                    4\n",
      "mediplus krzysztof wypych       2\n",
      "sc mediplus exim srl            1\n",
      "Name: WIN_NAME, dtype: int64\n",
      "mediplus exim                6416\n",
      "mediplus solutions             12\n",
      "mediplus                        4\n",
      "mediplus krzysztof wypych       2\n",
      "sc mediplus exim                1\n",
      "Name: WIN_NAME, dtype: int64\n"
     ]
    }
   ],
   "source": [
    "most_common_words = most_common(preprocessed_winner_names, 10)\n",
    "extracted_preprocessed_winner_names = extract_sw(preprocessed_winner_names, most_common_words)\n",
    "\n",
    "print(preprocessed_winner_names[preprocessed_winner_names.apply(lambda x: isinclude(x, 'mediplus'))].value_counts())\n",
    "print(extracted_preprocessed_winner_names[extracted_preprocessed_winner_names.apply(lambda x: isinclude(x, 'mediplus'))].value_counts())"
   ]
  },
  {
   "cell_type": "markdown",
   "metadata": {},
   "source": [
    "#### Vectorization"
   ]
  },
  {
   "cell_type": "code",
   "execution_count": 4,
   "metadata": {},
   "outputs": [
    {
     "name": "stdout",
     "output_type": "stream",
     "text": [
      "222895\n"
     ]
    },
    {
     "name": "stderr",
     "output_type": "stream",
     "text": [
      "22it [00:01, 11.03it/s]\n"
     ]
    }
   ],
   "source": [
    "from sklearn.feature_extraction.text import TfidfVectorizer\n",
    "\n",
    "unique_winner_names = pd.Series(extracted_preprocessed_winner_names.unique()).reset_index(drop=True)\n",
    "unique_winner_names = unique_winner_names[unique_winner_names.apply(lambda x: len(str(x)) > 3)]\n",
    "unique_winner_names.reset_index(drop=True, inplace=True)\n",
    "\n",
    "vectorizer = TfidfVectorizer(min_df=1, analyzer=ngrams)\n",
    "vectorizer_fitted = vectorizer.fit(unique_winner_names)\n",
    "\n",
    "tf_idf_matrix = transform_tqdm(unique_winner_names, vectorizer_fitted)"
   ]
  },
  {
   "cell_type": "markdown",
   "metadata": {},
   "source": [
    "#### Building Search Index Using Sklearn"
   ]
  },
  {
   "cell_type": "code",
   "execution_count": 5,
   "metadata": {},
   "outputs": [
    {
     "data": {
      "text/html": [
       "<style>#sk-container-id-1 {color: black;background-color: white;}#sk-container-id-1 pre{padding: 0;}#sk-container-id-1 div.sk-toggleable {background-color: white;}#sk-container-id-1 label.sk-toggleable__label {cursor: pointer;display: block;width: 100%;margin-bottom: 0;padding: 0.3em;box-sizing: border-box;text-align: center;}#sk-container-id-1 label.sk-toggleable__label-arrow:before {content: \"▸\";float: left;margin-right: 0.25em;color: #696969;}#sk-container-id-1 label.sk-toggleable__label-arrow:hover:before {color: black;}#sk-container-id-1 div.sk-estimator:hover label.sk-toggleable__label-arrow:before {color: black;}#sk-container-id-1 div.sk-toggleable__content {max-height: 0;max-width: 0;overflow: hidden;text-align: left;background-color: #f0f8ff;}#sk-container-id-1 div.sk-toggleable__content pre {margin: 0.2em;color: black;border-radius: 0.25em;background-color: #f0f8ff;}#sk-container-id-1 input.sk-toggleable__control:checked~div.sk-toggleable__content {max-height: 200px;max-width: 100%;overflow: auto;}#sk-container-id-1 input.sk-toggleable__control:checked~label.sk-toggleable__label-arrow:before {content: \"▾\";}#sk-container-id-1 div.sk-estimator input.sk-toggleable__control:checked~label.sk-toggleable__label {background-color: #d4ebff;}#sk-container-id-1 div.sk-label input.sk-toggleable__control:checked~label.sk-toggleable__label {background-color: #d4ebff;}#sk-container-id-1 input.sk-hidden--visually {border: 0;clip: rect(1px 1px 1px 1px);clip: rect(1px, 1px, 1px, 1px);height: 1px;margin: -1px;overflow: hidden;padding: 0;position: absolute;width: 1px;}#sk-container-id-1 div.sk-estimator {font-family: monospace;background-color: #f0f8ff;border: 1px dotted black;border-radius: 0.25em;box-sizing: border-box;margin-bottom: 0.5em;}#sk-container-id-1 div.sk-estimator:hover {background-color: #d4ebff;}#sk-container-id-1 div.sk-parallel-item::after {content: \"\";width: 100%;border-bottom: 1px solid gray;flex-grow: 1;}#sk-container-id-1 div.sk-label:hover label.sk-toggleable__label {background-color: #d4ebff;}#sk-container-id-1 div.sk-serial::before {content: \"\";position: absolute;border-left: 1px solid gray;box-sizing: border-box;top: 0;bottom: 0;left: 50%;z-index: 0;}#sk-container-id-1 div.sk-serial {display: flex;flex-direction: column;align-items: center;background-color: white;padding-right: 0.2em;padding-left: 0.2em;position: relative;}#sk-container-id-1 div.sk-item {position: relative;z-index: 1;}#sk-container-id-1 div.sk-parallel {display: flex;align-items: stretch;justify-content: center;background-color: white;position: relative;}#sk-container-id-1 div.sk-item::before, #sk-container-id-1 div.sk-parallel-item::before {content: \"\";position: absolute;border-left: 1px solid gray;box-sizing: border-box;top: 0;bottom: 0;left: 50%;z-index: -1;}#sk-container-id-1 div.sk-parallel-item {display: flex;flex-direction: column;z-index: 1;position: relative;background-color: white;}#sk-container-id-1 div.sk-parallel-item:first-child::after {align-self: flex-end;width: 50%;}#sk-container-id-1 div.sk-parallel-item:last-child::after {align-self: flex-start;width: 50%;}#sk-container-id-1 div.sk-parallel-item:only-child::after {width: 0;}#sk-container-id-1 div.sk-dashed-wrapped {border: 1px dashed gray;margin: 0 0.4em 0.5em 0.4em;box-sizing: border-box;padding-bottom: 0.4em;background-color: white;}#sk-container-id-1 div.sk-label label {font-family: monospace;font-weight: bold;display: inline-block;line-height: 1.2em;}#sk-container-id-1 div.sk-label-container {text-align: center;}#sk-container-id-1 div.sk-container {/* jupyter's `normalize.less` sets `[hidden] { display: none; }` but bootstrap.min.css set `[hidden] { display: none !important; }` so we also need the `!important` here to be able to override the default hidden behavior on the sphinx rendered scikit-learn.org. See: https://github.com/scikit-learn/scikit-learn/issues/21755 */display: inline-block !important;position: relative;}#sk-container-id-1 div.sk-text-repr-fallback {display: none;}</style><div id=\"sk-container-id-1\" class=\"sk-top-container\"><div class=\"sk-text-repr-fallback\"><pre>NearestNeighbors(n_jobs=-1)</pre><b>In a Jupyter environment, please rerun this cell to show the HTML representation or trust the notebook. <br />On GitHub, the HTML representation is unable to render, please try loading this page with nbviewer.org.</b></div><div class=\"sk-container\" hidden><div class=\"sk-item\"><div class=\"sk-estimator sk-toggleable\"><input class=\"sk-toggleable__control sk-hidden--visually\" id=\"sk-estimator-id-1\" type=\"checkbox\" checked><label for=\"sk-estimator-id-1\" class=\"sk-toggleable__label sk-toggleable__label-arrow\">NearestNeighbors</label><div class=\"sk-toggleable__content\"><pre>NearestNeighbors(n_jobs=-1)</pre></div></div></div></div></div>"
      ],
      "text/plain": [
       "NearestNeighbors(n_jobs=-1)"
      ]
     },
     "execution_count": 5,
     "metadata": {},
     "output_type": "execute_result"
    }
   ],
   "source": [
    "from sklearn.neighbors import NearestNeighbors\n",
    "\n",
    "# build the search index!\n",
    "neigh = NearestNeighbors(n_neighbors=5, n_jobs=-1)\n",
    "neigh.fit(tf_idf_matrix)"
   ]
  },
  {
   "cell_type": "code",
   "execution_count": 7,
   "metadata": {},
   "outputs": [],
   "source": [
    "distances_list, indexes_list = search_tqdm(tf_idf_matrix, neigh, 1_000, 5)\n",
    "# np.savetxt(fname='distances.csv', X=distances_list, delimiter=',')\n",
    "# np.savetxt(fname='indexes.csv', X=indexes_list, delimiter=',')\n",
    "# distances_list = np.loadtxt('distances.csv', delimiter=',')\n",
    "# indexes_list = np.loadtxt('indexes.csv', delimiter=',').astype(int)"
   ]
  },
  {
   "cell_type": "markdown",
   "metadata": {},
   "source": [
    "#### Search"
   ]
  },
  {
   "cell_type": "code",
   "execution_count": 8,
   "metadata": {},
   "outputs": [
    {
     "name": "stderr",
     "output_type": "stream",
     "text": [
      "100%|██████████| 308711/308711 [00:46<00:00, 6605.91it/s]\n"
     ]
    },
    {
     "name": "stdout",
     "output_type": "stream",
     "text": [
      "[('mediplus exim', 'sc mediplus exim'), ('sc mediplus exim', 'mediplus exim')]\n"
     ]
    }
   ],
   "source": [
    "threshold = .6\n",
    "closer_candidates_matrix = np.argwhere(np.array(distances_list) < threshold)\n",
    "\n",
    "mapper = [(pair[0], np.array(indexes_list)[pair[0], pair[1]]) for c, pair in enumerate(tqdm(closer_candidates_matrix)) if pair[1] != 0]\n",
    "\n",
    "matchings = [(unique_winner_names[src], unique_winner_names[des]) for (src,des) in mapper if src != des]\n",
    "print([matching for matching in matchings if 'mediplus' in matching[0]])"
   ]
  }
 ],
 "metadata": {
  "kernelspec": {
   "display_name": "Python 3.9.13 ('base')",
   "language": "python",
   "name": "python3"
  },
  "language_info": {
   "codemirror_mode": {
    "name": "ipython",
    "version": 3
   },
   "file_extension": ".py",
   "mimetype": "text/x-python",
   "name": "python",
   "nbconvert_exporter": "python",
   "pygments_lexer": "ipython3",
   "version": "3.9.13"
  },
  "orig_nbformat": 4,
  "vscode": {
   "interpreter": {
    "hash": "a7b7eb81ecbedcd44d260c4cf5554badf856c484fb3975760632ed23ec7bc65a"
   }
  }
 },
 "nbformat": 4,
 "nbformat_minor": 2
}
